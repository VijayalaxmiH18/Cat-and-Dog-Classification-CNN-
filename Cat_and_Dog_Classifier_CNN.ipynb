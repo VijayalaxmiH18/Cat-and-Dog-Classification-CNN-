{
  "nbformat": 4,
  "nbformat_minor": 0,
  "metadata": {
    "colab": {
      "name": "Cat and Dog Classifier-CNN.ipynb",
      "provenance": [],
      "collapsed_sections": [],
      "toc_visible": true
    },
    "kernelspec": {
      "name": "python3",
      "display_name": "Python 3"
    },
    "accelerator": "TPU"
  },
  "cells": [
    {
      "cell_type": "markdown",
      "metadata": {
        "id": "FhGO1j6o3NAR",
        "colab_type": "text"
      },
      "source": [
        "# **Cats and Dogs Classification**\n",
        "*Classifying whether a given image is of a cat or a dog using Convolution Neural Network (CNN)*\n",
        "\n",
        "*Dataset Link: https://www.kaggle.com/tongpython/cat-and-dog*"
      ]
    },
    {
      "cell_type": "code",
      "metadata": {
        "id": "CWlHepHI0C_v",
        "colab_type": "code",
        "outputId": "4e85d3b6-a925-44d6-b568-4a5a0b0dc114",
        "colab": {
          "base_uri": "https://localhost:8080/",
          "height": 118
        }
      },
      "source": [
        "# Connecting Google Colab with Google Drive\n",
        "from google.colab import drive\n",
        "drive.mount('/content/drive/')"
      ],
      "execution_count": 1,
      "outputs": [
        {
          "output_type": "stream",
          "text": [
            "Go to this URL in a browser: https://accounts.google.com/o/oauth2/auth?client_id=947318989803-6bn6qk8qdgf4n4g3pfee6491hc0brc4i.apps.googleusercontent.com&redirect_uri=urn%3aietf%3awg%3aoauth%3a2.0%3aoob&response_type=code&scope=email%20https%3a%2f%2fwww.googleapis.com%2fauth%2fdocs.test%20https%3a%2f%2fwww.googleapis.com%2fauth%2fdrive%20https%3a%2f%2fwww.googleapis.com%2fauth%2fdrive.photos.readonly%20https%3a%2f%2fwww.googleapis.com%2fauth%2fpeopleapi.readonly\n",
            "\n",
            "Enter your authorization code:\n",
            "··········\n",
            "Mounted at /content/drive/\n"
          ],
          "name": "stdout"
        }
      ]
    },
    {
      "cell_type": "markdown",
      "metadata": {
        "id": "oxQxCBWyoGPE",
        "colab_type": "text"
      },
      "source": [
        "## Part 1 - Data Preprocessing"
      ]
    },
    {
      "cell_type": "code",
      "metadata": {
        "id": "cCl2fxSle5bd",
        "colab_type": "code",
        "outputId": "ca1fd25b-6d9e-47cf-c212-6d3da0640b35",
        "colab": {
          "base_uri": "https://localhost:8080/",
          "height": 33
        }
      },
      "source": [
        "# Importing essential libraries\n",
        "from keras.preprocessing.image import ImageDataGenerator"
      ],
      "execution_count": 2,
      "outputs": [
        {
          "output_type": "stream",
          "text": [
            "Using TensorFlow backend.\n"
          ],
          "name": "stderr"
        }
      ]
    },
    {
      "cell_type": "code",
      "metadata": {
        "id": "ZJxhZhkNWsqq",
        "colab_type": "code",
        "outputId": "edd00ddf-fd94-4884-c02e-8639281fcaf0",
        "colab": {
          "base_uri": "https://localhost:8080/",
          "height": 33
        }
      },
      "source": [
        "# Preprocessing the Training set\n",
        "\n",
        "# Data Augmentation\n",
        "train_datagen = ImageDataGenerator(rescale=1./255,\n",
        "                                   shear_range=0.2,\n",
        "                                   zoom_range=0.2,\n",
        "                                   horizontal_flip=True)\n",
        "\n",
        "# Importing Training set\n",
        "training_set = train_datagen.flow_from_directory('/content/drive/My Drive/Colab Notebooks/training_set/training_set',\n",
        "                                                    target_size=(64, 64),\n",
        "                                                    batch_size=32,\n",
        "                                                    class_mode='binary')"
      ],
      "execution_count": 4,
      "outputs": [
        {
          "output_type": "stream",
          "text": [
            "Found 8005 images belonging to 2 classes.\n"
          ],
          "name": "stdout"
        }
      ]
    },
    {
      "cell_type": "code",
      "metadata": {
        "id": "L2lFLWIrXqQS",
        "colab_type": "code",
        "outputId": "f991ede4-dc6a-4b47-9df7-acd8eb189e18",
        "colab": {
          "base_uri": "https://localhost:8080/",
          "height": 33
        }
      },
      "source": [
        "# Preprocessing the Test set\n",
        "\n",
        "# Feature Scaling\n",
        "test_datagen = ImageDataGenerator(rescale=1./255)\n",
        "\n",
        "# Importing Test set\n",
        "test_set = test_datagen.flow_from_directory('/content/drive/My Drive/Colab Notebooks/test_set/test_set',\n",
        "                                            target_size=(64, 64),\n",
        "                                            batch_size=32,\n",
        "                                            class_mode='binary')"
      ],
      "execution_count": 8,
      "outputs": [
        {
          "output_type": "stream",
          "text": [
            "Found 2023 images belonging to 2 classes.\n"
          ],
          "name": "stdout"
        }
      ]
    },
    {
      "cell_type": "markdown",
      "metadata": {
        "id": "af8O4l90gk7B",
        "colab_type": "text"
      },
      "source": [
        "## Part 2 - Building the CNN"
      ]
    },
    {
      "cell_type": "code",
      "metadata": {
        "id": "8OuHRugqY_ZL",
        "colab_type": "code",
        "colab": {}
      },
      "source": [
        "# Importing essential libraries\n",
        "from keras.models import Sequential\n",
        "from keras.layers import Conv2D, MaxPool2D, Flatten, Dense"
      ],
      "execution_count": 0,
      "outputs": []
    },
    {
      "cell_type": "code",
      "metadata": {
        "id": "YhQVckrfZWFc",
        "colab_type": "code",
        "colab": {}
      },
      "source": [
        "# Initialising the CNN\n",
        "cnn = Sequential()"
      ],
      "execution_count": 0,
      "outputs": []
    },
    {
      "cell_type": "code",
      "metadata": {
        "id": "BCvNuryfZhM7",
        "colab_type": "code",
        "colab": {}
      },
      "source": [
        "# Step 1 - Add Convolution Layer\n",
        "cnn.add(Conv2D(filters=32, kernel_size=3, activation='relu', input_shape=[64, 64, 3]))"
      ],
      "execution_count": 0,
      "outputs": []
    },
    {
      "cell_type": "code",
      "metadata": {
        "id": "d989lotwb2DF",
        "colab_type": "code",
        "colab": {}
      },
      "source": [
        "# Step 2 - Add Pooling Layer\n",
        "cnn.add(MaxPool2D(pool_size=2, strides=2))"
      ],
      "execution_count": 0,
      "outputs": []
    },
    {
      "cell_type": "code",
      "metadata": {
        "id": "qjtkq0jXcMsc",
        "colab_type": "code",
        "colab": {}
      },
      "source": [
        "# Add second onvolutional layer with pooling\n",
        "cnn.add(Conv2D(filters=32, kernel_size=3, activation='relu'))\n",
        "cnn.add(MaxPool2D(pool_size=2, strides=2))"
      ],
      "execution_count": 0,
      "outputs": []
    },
    {
      "cell_type": "code",
      "metadata": {
        "id": "KZPkJv_scoVE",
        "colab_type": "code",
        "colab": {}
      },
      "source": [
        "# Step 3 - Add Flattening Layer\n",
        "cnn.add(Flatten())"
      ],
      "execution_count": 0,
      "outputs": []
    },
    {
      "cell_type": "code",
      "metadata": {
        "id": "qeuHtMxGcxrj",
        "colab_type": "code",
        "colab": {}
      },
      "source": [
        "# Step 4 - Add Full Connected Layer\n",
        "cnn.add(Dense(units=128, activation='relu'))"
      ],
      "execution_count": 0,
      "outputs": []
    },
    {
      "cell_type": "code",
      "metadata": {
        "id": "YgF3PhTMdG_k",
        "colab_type": "code",
        "colab": {}
      },
      "source": [
        "# Step 5 - Add Output Layer\n",
        "cnn.add(Dense(units=1, activation='sigmoid'))"
      ],
      "execution_count": 0,
      "outputs": []
    },
    {
      "cell_type": "code",
      "metadata": {
        "id": "9muTk0ztobBx",
        "colab_type": "code",
        "outputId": "a2493043-c37e-4369-c0a8-e92d4b4284ff",
        "colab": {
          "base_uri": "https://localhost:8080/",
          "height": 375
        }
      },
      "source": [
        "cnn.summary()"
      ],
      "execution_count": 17,
      "outputs": [
        {
          "output_type": "stream",
          "text": [
            "Model: \"sequential_1\"\n",
            "_________________________________________________________________\n",
            "Layer (type)                 Output Shape              Param #   \n",
            "=================================================================\n",
            "conv2d_1 (Conv2D)            (None, 62, 62, 32)        896       \n",
            "_________________________________________________________________\n",
            "max_pooling2d_1 (MaxPooling2 (None, 31, 31, 32)        0         \n",
            "_________________________________________________________________\n",
            "conv2d_2 (Conv2D)            (None, 29, 29, 32)        9248      \n",
            "_________________________________________________________________\n",
            "max_pooling2d_2 (MaxPooling2 (None, 14, 14, 32)        0         \n",
            "_________________________________________________________________\n",
            "flatten_1 (Flatten)          (None, 6272)              0         \n",
            "_________________________________________________________________\n",
            "dense_1 (Dense)              (None, 128)               802944    \n",
            "_________________________________________________________________\n",
            "dense_2 (Dense)              (None, 1)                 129       \n",
            "=================================================================\n",
            "Total params: 813,217\n",
            "Trainable params: 813,217\n",
            "Non-trainable params: 0\n",
            "_________________________________________________________________\n"
          ],
          "name": "stdout"
        }
      ]
    },
    {
      "cell_type": "markdown",
      "metadata": {
        "id": "D6XkI90snSDl",
        "colab_type": "text"
      },
      "source": [
        "## Part 3 - Training the CNN"
      ]
    },
    {
      "cell_type": "code",
      "metadata": {
        "id": "xUG0Mo7mdwPt",
        "colab_type": "code",
        "colab": {}
      },
      "source": [
        "# Compiling the CNN\n",
        "cnn.compile(optimizer='adam', loss='binary_crossentropy', metrics=['accuracy'])"
      ],
      "execution_count": 0,
      "outputs": []
    },
    {
      "cell_type": "code",
      "metadata": {
        "id": "Emku4-AeeBNU",
        "colab_type": "code",
        "outputId": "f39f906a-824a-4472-dc46-aa729efa38d1",
        "colab": {
          "base_uri": "https://localhost:8080/",
          "height": 830
        }
      },
      "source": [
        "# Training the CNN on the Training set and evaluating it on the Test set\n",
        "model_history = cnn.fit(x=training_set, validation_data=test_set, epochs=25)"
      ],
      "execution_count": 20,
      "outputs": [
        {
          "output_type": "stream",
          "text": [
            "Epoch 1/25\n",
            "251/251 [==============================] - 2526s 10s/step - loss: 0.6795 - accuracy: 0.5703 - val_loss: 0.5574 - val_accuracy: 0.6451\n",
            "Epoch 2/25\n",
            "251/251 [==============================] - 78s 311ms/step - loss: 0.6131 - accuracy: 0.6618 - val_loss: 0.4782 - val_accuracy: 0.7049\n",
            "Epoch 3/25\n",
            "251/251 [==============================] - 77s 308ms/step - loss: 0.5606 - accuracy: 0.7118 - val_loss: 0.3729 - val_accuracy: 0.7301\n",
            "Epoch 4/25\n",
            "251/251 [==============================] - 77s 308ms/step - loss: 0.5209 - accuracy: 0.7413 - val_loss: 0.8297 - val_accuracy: 0.7533\n",
            "Epoch 5/25\n",
            "251/251 [==============================] - 77s 308ms/step - loss: 0.4981 - accuracy: 0.7598 - val_loss: 1.1881 - val_accuracy: 0.7405\n",
            "Epoch 6/25\n",
            "251/251 [==============================] - 78s 311ms/step - loss: 0.4823 - accuracy: 0.7700 - val_loss: 0.2775 - val_accuracy: 0.7548\n",
            "Epoch 7/25\n",
            "251/251 [==============================] - 77s 308ms/step - loss: 0.4676 - accuracy: 0.7734 - val_loss: 0.4126 - val_accuracy: 0.7776\n",
            "Epoch 8/25\n",
            "251/251 [==============================] - 77s 308ms/step - loss: 0.4488 - accuracy: 0.7894 - val_loss: 0.3516 - val_accuracy: 0.7805\n",
            "Epoch 9/25\n",
            "251/251 [==============================] - 78s 310ms/step - loss: 0.4356 - accuracy: 0.7959 - val_loss: 0.3684 - val_accuracy: 0.7860\n",
            "Epoch 10/25\n",
            "251/251 [==============================] - 78s 310ms/step - loss: 0.4232 - accuracy: 0.8037 - val_loss: 0.4589 - val_accuracy: 0.7845\n",
            "Epoch 11/25\n",
            "251/251 [==============================] - 77s 309ms/step - loss: 0.4098 - accuracy: 0.8114 - val_loss: 0.3972 - val_accuracy: 0.7924\n",
            "Epoch 12/25\n",
            "251/251 [==============================] - 78s 309ms/step - loss: 0.3939 - accuracy: 0.8189 - val_loss: 0.3383 - val_accuracy: 0.7944\n",
            "Epoch 13/25\n",
            "251/251 [==============================] - 78s 310ms/step - loss: 0.3801 - accuracy: 0.8274 - val_loss: 0.6537 - val_accuracy: 0.7687\n",
            "Epoch 14/25\n",
            "251/251 [==============================] - 78s 310ms/step - loss: 0.3571 - accuracy: 0.8371 - val_loss: 0.2792 - val_accuracy: 0.7949\n",
            "Epoch 15/25\n",
            "251/251 [==============================] - 78s 310ms/step - loss: 0.3510 - accuracy: 0.8426 - val_loss: 1.1995 - val_accuracy: 0.7865\n",
            "Epoch 16/25\n",
            "251/251 [==============================] - 82s 327ms/step - loss: 0.3294 - accuracy: 0.8572 - val_loss: 0.2644 - val_accuracy: 0.7949\n",
            "Epoch 17/25\n",
            "251/251 [==============================] - 78s 312ms/step - loss: 0.3218 - accuracy: 0.8578 - val_loss: 0.0055 - val_accuracy: 0.7924\n",
            "Epoch 18/25\n",
            "251/251 [==============================] - 78s 312ms/step - loss: 0.3096 - accuracy: 0.8708 - val_loss: 0.6443 - val_accuracy: 0.7855\n",
            "Epoch 19/25\n",
            "251/251 [==============================] - 78s 311ms/step - loss: 0.2879 - accuracy: 0.8768 - val_loss: 0.0943 - val_accuracy: 0.7978\n",
            "Epoch 20/25\n",
            "251/251 [==============================] - 79s 316ms/step - loss: 0.2800 - accuracy: 0.8785 - val_loss: 0.2458 - val_accuracy: 0.7870\n",
            "Epoch 21/25\n",
            "251/251 [==============================] - 78s 312ms/step - loss: 0.2594 - accuracy: 0.8934 - val_loss: 0.7879 - val_accuracy: 0.7939\n",
            "Epoch 22/25\n",
            "251/251 [==============================] - 79s 315ms/step - loss: 0.2471 - accuracy: 0.8978 - val_loss: 0.0096 - val_accuracy: 0.7756\n",
            "Epoch 23/25\n",
            "251/251 [==============================] - 78s 312ms/step - loss: 0.2507 - accuracy: 0.8962 - val_loss: 0.4184 - val_accuracy: 0.7825\n",
            "Epoch 24/25\n",
            "251/251 [==============================] - 83s 331ms/step - loss: 0.2284 - accuracy: 0.9067 - val_loss: 0.4500 - val_accuracy: 0.7954\n",
            "Epoch 25/25\n",
            "251/251 [==============================] - 78s 310ms/step - loss: 0.2244 - accuracy: 0.9083 - val_loss: 1.2369 - val_accuracy: 0.7860\n"
          ],
          "name": "stdout"
        }
      ]
    },
    {
      "cell_type": "markdown",
      "metadata": {
        "id": "U3PZasO0006Z",
        "colab_type": "text"
      },
      "source": [
        "## Part 4 - Model Evaluation"
      ]
    },
    {
      "cell_type": "code",
      "metadata": {
        "id": "re1fN31A_bDy",
        "colab_type": "code",
        "outputId": "bc453f03-8160-4a41-f77c-2bb46e0e7d9b",
        "colab": {
          "base_uri": "https://localhost:8080/",
          "height": 70
        }
      },
      "source": [
        "# Importing essential libraries\n",
        "import matplotlib.pyplot as plt\n",
        "import seaborn as sns\n",
        "%matplotlib inline"
      ],
      "execution_count": 21,
      "outputs": [
        {
          "output_type": "stream",
          "text": [
            "/usr/local/lib/python3.6/dist-packages/statsmodels/tools/_testing.py:19: FutureWarning: pandas.util.testing is deprecated. Use the functions in the public API at pandas.testing instead.\n",
            "  import pandas.util.testing as tm\n"
          ],
          "name": "stderr"
        }
      ]
    },
    {
      "cell_type": "code",
      "metadata": {
        "id": "41AOhxxF_KB8",
        "colab_type": "code",
        "outputId": "0e6f2b6c-bca4-46a6-ff98-cb01aa5a1a78",
        "colab": {
          "base_uri": "https://localhost:8080/",
          "height": 33
        }
      },
      "source": [
        "# List all data in history\n",
        "print(model_history.history.keys())"
      ],
      "execution_count": 22,
      "outputs": [
        {
          "output_type": "stream",
          "text": [
            "dict_keys(['val_loss', 'val_accuracy', 'loss', 'accuracy'])\n"
          ],
          "name": "stdout"
        }
      ]
    },
    {
      "cell_type": "code",
      "metadata": {
        "id": "jj_bJ1le_XVJ",
        "colab_type": "code",
        "outputId": "4b4937bf-437c-4e63-d649-1a58df33e556",
        "colab": {
          "base_uri": "https://localhost:8080/",
          "height": 512
        }
      },
      "source": [
        "# Summarize history for accuracy\n",
        "plt.figure(figsize=(8,8))\n",
        "plt.plot(model_history.history['accuracy'])\n",
        "plt.plot(model_history.history['val_accuracy'])\n",
        "plt.title('Model Accuracy')\n",
        "plt.xlabel('Epoch')\n",
        "plt.ylabel('Accuracy')\n",
        "plt.legend(['Train', 'Test'], loc='lower right')\n",
        "plt.show()"
      ],
      "execution_count": 23,
      "outputs": [
        {
          "output_type": "display_data",
          "data": {
            "image/png": "[encoded data removed]",
            "text/plain": [
              "<Figure size 576x576 with 1 Axes>"
            ]
          },
          "metadata": {
            "tags": [],
            "needs_background": "light"
          }
        }
      ]
    },
    {
      "cell_type": "code",
      "metadata": {
        "id": "682AJ6gaAtmi",
        "colab_type": "code",
        "outputId": "d4343913-9356-415b-9e08-0a2705f98bc0",
        "colab": {
          "base_uri": "https://localhost:8080/",
          "height": 512
        }
      },
      "source": [
        "# Summarize history for loss\n",
        "plt.figure(figsize=(8,8))\n",
        "plt.plot(model_history.history['loss'])\n",
        "plt.plot(model_history.history['val_loss'])\n",
        "plt.title('Model Loss')\n",
        "plt.xlabel('Epoch')\n",
        "plt.ylabel('Loss')\n",
        "plt.legend(['Train', 'Test'], loc='upper right')\n",
        "plt.show()"
      ],
      "execution_count": 24,
      "outputs": [
        {
          "output_type": "display_data",
          "data": {
            "image/png": "[encoded data removed]",
            "text/plain": [
              "<Figure size 576x576 with 1 Axes>"
            ]
          },
          "metadata": {
            "tags": [],
            "needs_background": "light"
          }
        }
      ]
    },
    {
      "cell_type": "markdown",
      "metadata": {
        "colab_type": "text",
        "id": "e0wEcJkZ_B66"
      },
      "source": [
        "## Part 5 - Making Predictions"
      ]
    },
    {
      "cell_type": "code",
      "metadata": {
        "id": "mOY7YkGZeiCV",
        "colab_type": "code",
        "colab": {}
      },
      "source": [
        "# Importing essential libraries\n",
        "import numpy as np\n",
        "from keras.preprocessing import image"
      ],
      "execution_count": 0,
      "outputs": []
    },
    {
      "cell_type": "markdown",
      "metadata": {
        "colab_type": "text",
        "id": "X7yFJ_L3dgdm"
      },
      "source": [
        "### Prediction 1\n",
        "\n",
        "*Predicting the following image:*\n",
        "\n",
        "<img src='https://drive.google.com/uc?id=1eTA9tOoKb0OJwVUhQKB68QiuzWlAGUQA' width='400px' height='300px'/>"
      ]
    },
    {
      "cell_type": "code",
      "metadata": {
        "colab_type": "code",
        "outputId": "f0b248a2-8c8a-45a6-8a52-bcdaa9b035ac",
        "id": "tBlqA6N0dlq_",
        "colab": {
          "base_uri": "https://localhost:8080/",
          "height": 33
        }
      },
      "source": [
        "test_image = image.load_img('/content/drive/My Drive/Colab Notebooks/catordog1.jpeg', target_size = (64, 64))\n",
        "test_image = image.img_to_array(test_image)\n",
        "test_image = np.expand_dims(test_image, axis = 0)\n",
        "result = cnn.predict(test_image)\n",
        "\n",
        "if result[0][0] == 1:\n",
        "  print(\"Prediction: It's a Dog's image.\")\n",
        "else:\n",
        "  print(\"Prediction: It's a Cat's image.\")"
      ],
      "execution_count": 26,
      "outputs": [
        {
          "output_type": "stream",
          "text": [
            "Prediction: It's a Cat's image.\n"
          ],
          "name": "stdout"
        }
      ]
    },
    {
      "cell_type": "markdown",
      "metadata": {
        "colab_type": "text",
        "id": "JR0N0OE7Dxcj"
      },
      "source": [
        "### Prediction 2\n",
        "\n",
        "*Predicting the following image:*\n",
        "\n",
        "<img src=\"https://drive.google.com/uc?id=1FxykYvoG5x2ob0uZClJAMv6006fz3Unf\" width=\"450px\" height=\"300px\"/>"
      ]
    },
    {
      "cell_type": "code",
      "metadata": {
        "colab_type": "code",
        "outputId": "caefe9a5-61d5-4a41-9319-d576ce70d63f",
        "id": "7cK2fwXVdo-h",
        "colab": {
          "base_uri": "https://localhost:8080/",
          "height": 33
        }
      },
      "source": [
        "test_image = image.load_img('/content/drive/My Drive/Colab Notebooks/catordog3.jpeg', target_size = (64, 64))\n",
        "test_image = image.img_to_array(test_image)\n",
        "test_image = np.expand_dims(test_image, axis = 0)\n",
        "result = cnn.predict(test_image)\n",
        "\n",
        "if result[0][0] == 1:\n",
        "  print(\"Prediction: It's a Dog's image.\")\n",
        "else:\n",
        "  print(\"Prediction: It's a Cat's image.\")"
      ],
      "execution_count": 27,
      "outputs": [
        {
          "output_type": "stream",
          "text": [
            "Prediction: It's a Dog's image.\n"
          ],
          "name": "stdout"
        }
      ]
    },
    {
      "cell_type": "markdown",
      "metadata": {
        "colab_type": "text",
        "id": "m0RB22sJEY7d"
      },
      "source": [
        "### Prediction 3\n",
        "\n",
        "*Predicting the following image:*\n",
        "\n",
        "<img src=\"https://drive.google.com/uc?id=1heVtXw_DN4iNhe17sWYbXFz4OEryo0l9\" width=\"450px\" height=\"300px\"/>"
      ]
    },
    {
      "cell_type": "code",
      "metadata": {
        "colab_type": "code",
        "outputId": "2f8dce79-37e3-4037-c822-7be30ad38e9b",
        "id": "ejysEBAddtdu",
        "colab": {
          "base_uri": "https://localhost:8080/",
          "height": 33
        }
      },
      "source": [
        "test_image = image.load_img('/content/drive/My Drive/Colab Notebooks/catordog2.jpeg', target_size = (64, 64))\n",
        "test_image = image.img_to_array(test_image)\n",
        "test_image = np.expand_dims(test_image, axis = 0)\n",
        "result = cnn.predict(test_image)\n",
        "\n",
        "if result[0][0] == 1:\n",
        "  print(\"Prediction: It's a Dog's image.\")\n",
        "else:\n",
        "  print(\"Prediction: It's a Cat's image.\")"
      ],
      "execution_count": 28,
      "outputs": [
        {
          "output_type": "stream",
          "text": [
            "Prediction: It's a Dog's image.\n"
          ],
          "name": "stdout"
        }
      ]
    },
    {
      "cell_type": "markdown",
      "metadata": {
        "colab_type": "text",
        "id": "FxGbKM6WGFqr"
      },
      "source": [
        "### Prediction 4\n",
        "\n",
        "*Predicting the following image:*\n",
        "\n",
        "<img src=\"https://drive.google.com/uc?id=1zJ8yiKX1MFTYvGdMfWCPOG351E5hyEEX\" width=\"450px\" height=\"400px\"/>"
      ]
    },
    {
      "cell_type": "code",
      "metadata": {
        "colab_type": "code",
        "outputId": "305acdc6-2ab9-4eb2-dc9b-bccd04087149",
        "id": "pVGP7mjXdwr2",
        "colab": {
          "base_uri": "https://localhost:8080/",
          "height": 33
        }
      },
      "source": [
        "test_image = image.load_img('/content/drive/My Drive/Colab Notebooks/catordog4.jpeg', target_size = (64, 64))\n",
        "test_image = image.img_to_array(test_image)\n",
        "test_image = np.expand_dims(test_image, axis = 0)\n",
        "result = cnn.predict(test_image)\n",
        "\n",
        "if result[0][0] == 1:\n",
        "  print(\"Prediction: It's a Dog's image.\")\n",
        "else:\n",
        "  print(\"Prediction: It's a Cat's image.\")"
      ],
      "execution_count": 29,
      "outputs": [
        {
          "output_type": "stream",
          "text": [
            "Prediction: It's a Dog's image.\n"
          ],
          "name": "stdout"
        }
      ]
    },
    {
      "cell_type": "code",
      "metadata": {
        "id": "dwj47hLDkMFA",
        "colab_type": "code",
        "colab": {}
      },
      "source": [
        ""
      ],
      "execution_count": 0,
      "outputs": []
    }
  ]
}